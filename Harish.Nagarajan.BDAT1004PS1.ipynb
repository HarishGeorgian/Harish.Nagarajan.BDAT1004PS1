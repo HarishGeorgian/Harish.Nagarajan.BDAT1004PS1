{
 "cells": [
  {
   "cell_type": "code",
   "execution_count": 14,
   "id": "7629aa4d",
   "metadata": {},
   "outputs": [
    {
     "name": "stdout",
     "output_type": "stream",
     "text": [
      "<class 'int'>\n",
      "<class 'float'>\n",
      "True\n",
      "<class 'bool'>\n",
      "<class 'str'>\n",
      "10\n",
      "<class 'int'>\n",
      "55\n",
      "<class 'str'>\n",
      "52\n",
      "<class 'str'>\n",
      "2.5\n",
      "<class 'float'>\n",
      "1\n",
      "<class 'int'>\n",
      "{1, 2, 5}\n",
      "False\n",
      "<class 'bool'>\n",
      "3.141592653589793\n",
      "<class 'float'>\n"
     ]
    }
   ],
   "source": [
    "#Question 1: What data type is each of the following (evaluate where necessary)?\n",
    "A = 5\n",
    "B = 5.0\n",
    "C = 5>1\n",
    "D = '5'\n",
    "E = 5*2\n",
    "F = '5'*2\n",
    "G = '5'+'2'\n",
    "H = 5/2\n",
    "I= 5%2\n",
    "J = {5,2,1}\n",
    "K = 5==3\n",
    "import math\n",
    "L = (math.pi)\n",
    "print (type(A))\n",
    "print (type(B))\n",
    "#evaluation of Question C\n",
    "print (C)\n",
    "print (type(C))\n",
    "print (type(D))\n",
    "#evaluation of Question E\n",
    "print (E)\n",
    "print (type(E))\n",
    "#evaluation of Question F\n",
    "print (F)\n",
    "print (type(F))\n",
    "#evaluation of Question G\n",
    "print (G)\n",
    "print (type(G))\n",
    "#evaluation of Question H\n",
    "print (H)\n",
    "print (type(H))\n",
    "#evaluation of Question I\n",
    "print (I)\n",
    "print (type(I))\n",
    "print (J)\n",
    "#evaluation of Question K\n",
    "print (K)\n",
    "print (type(K))\n",
    "#evaluation of Question L\n",
    "print (L)\n",
    "print (type(L))"
   ]
  },
  {
   "cell_type": "code",
   "execution_count": 15,
   "id": "15e89c6a",
   "metadata": {},
   "outputs": [
    {
     "name": "stdout",
     "output_type": "stream",
     "text": [
      "Length of String A is 34\n",
      "True\n",
      "['Supercalifragilisticexpialidocious', 'Bababadalgharaghtakamminarronnkonn']\n",
      "Bartok\n",
      "Buxtehude\n"
     ]
    }
   ],
   "source": [
    "#Question 2: Write (and evaluate) python expressions that answer these questions:\n",
    "#A: How many letters are there in 'Supercalifragilisticexpialidocious'?\n",
    "A = \"Supercalifragilisticexpialidocious\"\n",
    "print (\"Length of String A is\",len(A))\n",
    "#Question B: Does 'Supercalifragilisticexpialidocious' contain 'ice' as a substring? \n",
    "A = \"Supercalifragilisticexpialidocious\"\n",
    "print (\"ice\" in A)\n",
    "#Question C: Which of the following words is the longest:Supercalifragilisticexpialidocious, Honorificabilitudinitatibus, or Bababadalgharaghtakamminarronnkonn?\n",
    "C = \"Supercalifragilisticexpialidocious\"\n",
    "D = \"Honorificabilitudinitatibus\"\n",
    "E = \"Bababadalgharaghtakamminarronnkonn\"\n",
    "List = [C,D,E]\n",
    "F = len(max(List,key = len))\n",
    "G = [word for word in List if len(word) == F]\n",
    "print (G)\n",
    "#Stack overflow reference link: https://stackoverflow.com/questions/46965405/python-multiple-list-max\n",
    "#Question D: Which composer comes first in the dictionary: 'Berlioz', 'Borodin', 'Brian','Bartok', 'Bellini', 'Buxtehude', 'Bernstein'. Which one comes last?\n",
    "A = \"Berlioz\"\n",
    "B = \"Borodin \"\n",
    "C = \"Brian\"\n",
    "D = \"Bartok\"\n",
    "E = \"Bellini\"\n",
    "F = \"Buxtehude\"\n",
    "G = \"Bernstein\"\n",
    "List = [A,B,C,D,E,F,G]\n",
    "print (min(List))\n",
    "print (max(List))"
   ]
  },
  {
   "cell_type": "code",
   "execution_count": 16,
   "id": "0cde2ea8",
   "metadata": {},
   "outputs": [
    {
     "name": "stdout",
     "output_type": "stream",
     "text": [
      "Enter the length of the 1st side: 2\n",
      "Enter the length of the 2nd side: 2\n",
      "Enter the length of the 3rd side: 2\n",
      "The Area of the triangle is: 1.7320508075688772\n"
     ]
    }
   ],
   "source": [
    "#Question 3: Implement function triangleArea(a,b,c) that takes as input the lengths of the 3 sides of a triangle and returns the area of the triangle. By Heron's formula, the areaof a triangle with side lengths a, b, and c iss(s - a)(s -b)(s -c), wheres = (a+b+c)/2.\n",
    "\n",
    "def HeronArea(S1,S2,S3):\n",
    "    import math\n",
    "    s=(S1+S2+S3)/2\n",
    "    a = (s*(s-S1)*(s-S2)*(s-S3))\n",
    "    Area = (math.sqrt(a))\n",
    "    return Area\n",
    "S1 = float(input(\"Enter the length of the 1st side: \"))\n",
    "S2 = float(input(\"Enter the length of the 2nd side: \"))\n",
    "S3 = float(input(\"Enter the length of the 3rd side: \"))\n",
    "\n",
    "Area = HeronArea(S1,S2,S3)\n",
    "print(\"The Area of the triangle is:\", Area)"
   ]
  },
  {
   "cell_type": "code",
   "execution_count": 17,
   "id": "4bb3f7a0",
   "metadata": {},
   "outputs": [
    {
     "name": "stdout",
     "output_type": "stream",
     "text": [
      "Enter the size of the array : 5\n",
      "Enter the elements of the array:\n",
      "25\n",
      "47\n",
      "42\n",
      "56\n",
      "32\n",
      "Even numbers: [42, 56, 32]\n",
      "Odd numbers: [25, 47]\n"
     ]
    }
   ],
   "source": [
    "#Question 4: Write a program in python to separate odd and even integers in separate arrays.\n",
    "def Separate_Arrays(Array):\n",
    "    Even_Array = []\n",
    "    Odd_Array = []\n",
    "    for i in Array:\n",
    "        if i % 2 == 0:\n",
    "            Even_Array.append(i)\n",
    "        else:\n",
    "            Odd_Array.append(i)\n",
    "    return Even_Array, Odd_Array\n",
    "Array = list()\n",
    "n = int(input(\"Enter the size of the array : \"))\n",
    "print(\"Enter the elements of the array:\")\n",
    "\n",
    "for i in range(n):\n",
    "    a=int(input(\"\"))\n",
    "    Array.append(a)\n",
    "\n",
    "Even_Array,Odd_Array = Separate_Arrays(Array)\n",
    "print(\"Even numbers:\", Even_Array)\n",
    "print(\"Odd numbers:\", Odd_Array)\n"
   ]
  },
  {
   "cell_type": "code",
   "execution_count": 18,
   "id": "9db847ab",
   "metadata": {},
   "outputs": [
    {
     "name": "stdout",
     "output_type": "stream",
     "text": [
      "True\n",
      "False\n",
      "False\n"
     ]
    }
   ],
   "source": [
    "#Question 5: Write a function inside(x,y,x1,y1,x2,y2) that returns True or False depending on whether the point (x,y) lies in the rectangle with lower left corner (x1,y1) and upper right corner (x2,y2)\n",
    "\n",
    "def inside(x,y,x1,y1,x2,y2):\n",
    "    if x1<=x<=x2 and y1<=y<=y2:\n",
    "        return True\n",
    "    else:\n",
    "        return False\n",
    "    \n",
    "#Solution for part A of the Question\n",
    "\n",
    "A = inside(1,1,0,0,2,3)\n",
    "print (A)\n",
    "B = inside(-1,-1,0,0,2,3)\n",
    "print (B)\n",
    "\n",
    "#Solution for part B of the Question\n",
    "\n",
    "#First we have to check whether the point lies in the first rectangle\n",
    "C = inside(1,1,0.3,0.5,1.1,0.7)\n",
    "\n",
    "#Then we will check whether the point lies in the Second rectangle\n",
    "D = inside(1,1,0.5,0.2,1.1,2)\n",
    "\n",
    "E = C and D\n",
    "\n",
    "print(E)"
   ]
  },
  {
   "cell_type": "code",
   "execution_count": 19,
   "id": "b1e67bba",
   "metadata": {},
   "outputs": [
    {
     "name": "stdout",
     "output_type": "stream",
     "text": [
      "Enter a word: Happy\n",
      "Pig Latin word: appyhay\n",
      "Enter a word: Enter\n",
      "Pig Latin word: enterway\n"
     ]
    }
   ],
   "source": [
    "#Question 6: Write a function pig() that takes a word (i.e., a string) as input and returns its pigLatin form. Your function should still work if the input word contains upper case characters. Your output should always be lower case however.\n",
    "\n",
    "def pig_latin(Array):\n",
    "    Array = Array.lower()\n",
    "    A = Array[0]\n",
    "    if (A in \"aeiou\"):\n",
    "        return Array + \"way\"\n",
    "    else:\n",
    "        return Array[1:]+Array[0]+\"ay\"\n",
    "\n",
    "Array1 = input(\"Enter a word: \")\n",
    "pig_latin_word1 = pig_latin(Array1)\n",
    "print(\"Pig Latin word:\", pig_latin_word1)\n",
    "\n",
    "Array2 = input(\"Enter a word: \")\n",
    "pig_latin_word2 = pig_latin(Array2)\n",
    "print(\"Pig Latin word:\", pig_latin_word2)"
   ]
  },
  {
   "cell_type": "code",
   "execution_count": null,
   "id": "a9314b01",
   "metadata": {},
   "outputs": [],
   "source": [
    "#Question 7: File bloodtype1.txt records blood-types of patients (A, B, AB, O or OO) at a clinic. Write a function bldcount() that reads the file with name name and reports (i.e., prints) how many patients there are in each bloodtype.\n",
    "\n",
    "def bldcount(s):\n",
    "    file = open(s)\n",
    "    data = file.read()\n",
    "    bloodtypes = data.strip().split(' ')\n",
    "    valid_bloodtypes = [\"A\", \"B\", \"AB\", \"O\", \"OO\"]\n",
    "    counts = [0,0,0,0,0]\n",
    "    for bloodtype in bloodtypes:\n",
    "        if bloodtype in valid_bloodtypes:\n",
    "            I = valid_bloodtypes.index(bloodtype)\n",
    "            counts[I] += 1\n",
    "    for i, bloodtype in enumerate(valid_bloodtypes):\n",
    "        print(counts[i], \"patients belong to the bloodtype\", bloodtype)\n",
    "bldcount(\"bloodtype1.txt\")"
   ]
  },
  {
   "cell_type": "code",
   "execution_count": 12,
   "id": "f009c8ce",
   "metadata": {},
   "outputs": [
    {
     "name": "stdout",
     "output_type": "stream",
     "text": [
      "Converted amount in USD: 122.96544\n",
      "Converted amount in USD: 1.241401\n"
     ]
    }
   ],
   "source": [
    "#Question 8: Write a function curconv() that takes as input:\n",
    "#1. a currency represented using a string (e.g., 'JPY' for the Japanese Yen or'EUR' for the Euro)\n",
    "#2. an amount\n",
    "#and then converts and returns the amount in US dollars.\n",
    "\n",
    "def curConv(Currency, amount):\n",
    "    A = open(\"currencies.txt\")\n",
    "    lines = A.readlines()\n",
    "    for line in lines:\n",
    "        Cur = line.strip().split('\\t')\n",
    "        code = Cur[0]\n",
    "        ConversionRate = float(Cur[1])\n",
    "        name = Cur[2]\n",
    "        \n",
    "        if Currency == code:\n",
    "            return amount * ConversionRate\n",
    "    \n",
    "print(\"Converted amount in USD:\", curConv('EUR', 100))\n",
    "print(\"Converted amount in USD:\", curConv('JPY', 100))"
   ]
  },
  {
   "cell_type": "code",
   "execution_count": 20,
   "id": "a19f0f86",
   "metadata": {},
   "outputs": [
    {
     "ename": "TypeError",
     "evalue": "unsupported operand type(s) for +: 'int' and 'str'",
     "output_type": "error",
     "traceback": [
      "\u001b[1;31m---------------------------------------------------------------------------\u001b[0m",
      "\u001b[1;31mTypeError\u001b[0m                                 Traceback (most recent call last)",
      "\u001b[1;32m~\\AppData\\Local\\Temp\\ipykernel_23832\\3355433165.py\u001b[0m in \u001b[0;36m<module>\u001b[1;34m\u001b[0m\n\u001b[0;32m      1\u001b[0m \u001b[1;31m#Question 9: Each of the following will cause an exception (an error). Identify what type of exception each will cause.\u001b[0m\u001b[1;33m\u001b[0m\u001b[1;33m\u001b[0m\u001b[0m\n\u001b[0;32m      2\u001b[0m \u001b[1;31m#9.a - Trying to add incompatible variables, as in adding\u001b[0m\u001b[1;33m\u001b[0m\u001b[1;33m\u001b[0m\u001b[0m\n\u001b[1;32m----> 3\u001b[1;33m \u001b[1;36m6\u001b[0m \u001b[1;33m+\u001b[0m \u001b[1;34m'a'\u001b[0m\u001b[1;33m\u001b[0m\u001b[1;33m\u001b[0m\u001b[0m\n\u001b[0m",
      "\u001b[1;31mTypeError\u001b[0m: unsupported operand type(s) for +: 'int' and 'str'"
     ]
    }
   ],
   "source": [
    "#Question 9: Each of the following will cause an exception (an error). Identify what type of exception each will cause.\n",
    "#9.a - Trying to add incompatible variables, as in adding\n",
    "6 + 'a'"
   ]
  },
  {
   "cell_type": "code",
   "execution_count": 21,
   "id": "53c3912d",
   "metadata": {},
   "outputs": [
    {
     "ename": "IndexError",
     "evalue": "list index out of range",
     "output_type": "error",
     "traceback": [
      "\u001b[1;31m---------------------------------------------------------------------------\u001b[0m",
      "\u001b[1;31mIndexError\u001b[0m                                Traceback (most recent call last)",
      "\u001b[1;32m~\\AppData\\Local\\Temp\\ipykernel_23832\\186953667.py\u001b[0m in \u001b[0;36m<module>\u001b[1;34m\u001b[0m\n\u001b[0;32m      2\u001b[0m \u001b[1;33m\u001b[0m\u001b[0m\n\u001b[0;32m      3\u001b[0m \u001b[0mA\u001b[0m\u001b[1;33m=\u001b[0m\u001b[1;33m[\u001b[0m\u001b[1;36m1\u001b[0m\u001b[1;33m,\u001b[0m\u001b[1;36m2\u001b[0m\u001b[1;33m,\u001b[0m\u001b[1;36m3\u001b[0m\u001b[1;33m,\u001b[0m\u001b[1;36m4\u001b[0m\u001b[1;33m,\u001b[0m\u001b[1;36m5\u001b[0m\u001b[1;33m,\u001b[0m\u001b[1;36m6\u001b[0m\u001b[1;33m,\u001b[0m\u001b[1;36m7\u001b[0m\u001b[1;33m,\u001b[0m\u001b[1;36m8\u001b[0m\u001b[1;33m,\u001b[0m\u001b[1;36m9\u001b[0m\u001b[1;33m,\u001b[0m\u001b[1;36m0\u001b[0m\u001b[1;33m]\u001b[0m\u001b[1;33m\u001b[0m\u001b[1;33m\u001b[0m\u001b[0m\n\u001b[1;32m----> 4\u001b[1;33m \u001b[0mprint\u001b[0m\u001b[1;33m(\u001b[0m\u001b[0mA\u001b[0m\u001b[1;33m[\u001b[0m\u001b[1;36m12\u001b[0m\u001b[1;33m]\u001b[0m\u001b[1;33m)\u001b[0m\u001b[1;33m\u001b[0m\u001b[1;33m\u001b[0m\u001b[0m\n\u001b[0m",
      "\u001b[1;31mIndexError\u001b[0m: list index out of range"
     ]
    }
   ],
   "source": [
    "#9.b - Referring to the 12th item of a list that has only 10 items\n",
    "\n",
    "A=[1,2,3,4,5,6,7,8,9,0]\n",
    "print(A[12])"
   ]
  },
  {
   "cell_type": "code",
   "execution_count": 22,
   "id": "641ac7a9",
   "metadata": {},
   "outputs": [
    {
     "ename": "ValueError",
     "evalue": "math domain error",
     "output_type": "error",
     "traceback": [
      "\u001b[1;31m---------------------------------------------------------------------------\u001b[0m",
      "\u001b[1;31mValueError\u001b[0m                                Traceback (most recent call last)",
      "\u001b[1;32m~\\AppData\\Local\\Temp\\ipykernel_23832\\146695544.py\u001b[0m in \u001b[0;36m<module>\u001b[1;34m\u001b[0m\n\u001b[0;32m      2\u001b[0m \u001b[1;33m\u001b[0m\u001b[0m\n\u001b[0;32m      3\u001b[0m \u001b[1;32mimport\u001b[0m \u001b[0mmath\u001b[0m\u001b[1;33m\u001b[0m\u001b[1;33m\u001b[0m\u001b[0m\n\u001b[1;32m----> 4\u001b[1;33m \u001b[0mA\u001b[0m \u001b[1;33m=\u001b[0m \u001b[0mmath\u001b[0m\u001b[1;33m.\u001b[0m\u001b[0msqrt\u001b[0m\u001b[1;33m(\u001b[0m\u001b[1;33m-\u001b[0m\u001b[1;36m1.0\u001b[0m\u001b[1;33m)\u001b[0m\u001b[1;33m\u001b[0m\u001b[1;33m\u001b[0m\u001b[0m\n\u001b[0m",
      "\u001b[1;31mValueError\u001b[0m: math domain error"
     ]
    }
   ],
   "source": [
    "#9.c - Using a value that is out of range for a function’s input, such as calling math.sqrt(-1.0)\n",
    "\n",
    "import math\n",
    "A = math.sqrt(-1.0)"
   ]
  },
  {
   "cell_type": "code",
   "execution_count": 23,
   "id": "ad3029bd",
   "metadata": {},
   "outputs": [
    {
     "ename": "NameError",
     "evalue": "name 'x' is not defined",
     "output_type": "error",
     "traceback": [
      "\u001b[1;31m---------------------------------------------------------------------------\u001b[0m",
      "\u001b[1;31mNameError\u001b[0m                                 Traceback (most recent call last)",
      "\u001b[1;32m~\\AppData\\Local\\Temp\\ipykernel_23832\\2696034646.py\u001b[0m in \u001b[0;36m<module>\u001b[1;34m\u001b[0m\n\u001b[0;32m      1\u001b[0m \u001b[1;31m#9.d - Using an undeclared variable, such as print(x) when x has not been defined\u001b[0m\u001b[1;33m\u001b[0m\u001b[1;33m\u001b[0m\u001b[0m\n\u001b[0;32m      2\u001b[0m \u001b[1;33m\u001b[0m\u001b[0m\n\u001b[1;32m----> 3\u001b[1;33m \u001b[0mprint\u001b[0m\u001b[1;33m(\u001b[0m\u001b[0mx\u001b[0m\u001b[1;33m)\u001b[0m\u001b[1;33m\u001b[0m\u001b[1;33m\u001b[0m\u001b[0m\n\u001b[0m",
      "\u001b[1;31mNameError\u001b[0m: name 'x' is not defined"
     ]
    }
   ],
   "source": [
    "#9.d - Using an undeclared variable, such as print(x) when x has not been defined \n",
    "\n",
    "print(x)"
   ]
  },
  {
   "cell_type": "code",
   "execution_count": 24,
   "id": "80db7789",
   "metadata": {},
   "outputs": [
    {
     "ename": "FileNotFoundError",
     "evalue": "[Errno 2] No such file or directory: 'file.txt'",
     "output_type": "error",
     "traceback": [
      "\u001b[1;31m---------------------------------------------------------------------------\u001b[0m",
      "\u001b[1;31mFileNotFoundError\u001b[0m                         Traceback (most recent call last)",
      "\u001b[1;32m~\\AppData\\Local\\Temp\\ipykernel_23832\\4185549881.py\u001b[0m in \u001b[0;36m<module>\u001b[1;34m\u001b[0m\n\u001b[0;32m      1\u001b[0m \u001b[1;31m#9.e - Trying to open a file that does not exist, such as mistyping the file name or looking in the wrong directory.\u001b[0m\u001b[1;33m\u001b[0m\u001b[1;33m\u001b[0m\u001b[0m\n\u001b[0;32m      2\u001b[0m \u001b[1;33m\u001b[0m\u001b[0m\n\u001b[1;32m----> 3\u001b[1;33m \u001b[0mopen\u001b[0m\u001b[1;33m(\u001b[0m\u001b[1;34m\"file.txt\"\u001b[0m\u001b[1;33m)\u001b[0m\u001b[1;33m\u001b[0m\u001b[1;33m\u001b[0m\u001b[0m\n\u001b[0m",
      "\u001b[1;31mFileNotFoundError\u001b[0m: [Errno 2] No such file or directory: 'file.txt'"
     ]
    }
   ],
   "source": [
    "#9.e - Trying to open a file that does not exist, such as mistyping the file name or looking in the wrong directory.\n",
    "\n",
    "open(\"file.txt\")"
   ]
  },
  {
   "cell_type": "code",
   "execution_count": 25,
   "id": "a244996b",
   "metadata": {},
   "outputs": [
    {
     "name": "stdout",
     "output_type": "stream",
     "text": [
      "Enter the text to find the letter frequencies: 'The quick red fox got bored and went home.'\n",
      "Letter frequency count:  [1, 1, 1, 3, 5, 1, 1, 2, 1, 0, 1, 0, 1, 2, 4, 0, 1, 2, 0, 2, 1, 0, 1, 1, 0, 0]\n",
      "Enter the text to find the letter frequencies: apple\n",
      "Letter frequency count:  [1, 0, 0, 0, 1, 0, 0, 0, 0, 0, 0, 1, 0, 0, 0, 2, 0, 0, 0, 0, 0, 0, 0, 0, 0, 0]\n"
     ]
    }
   ],
   "source": [
    "#Question 10 - Write a function called frequencies() that takes a string as its only parameter, and returns a list of integers, showing the number of times each character appears in the text. Your function may ignore any characters that are not in letters.\n",
    "\n",
    "def frequencies(text):\n",
    "    alphabets = 'abcdefghijklmnopqrstuvwxyz'\n",
    "    frequency_list = [0] * 26\n",
    "    for char in text:\n",
    "        if char in alphabets:\n",
    "            frequency_list[alphabets.index(char)] += 1\n",
    "    return frequency_list\n",
    "\n",
    "text1 = input(\"Enter the text to find the letter frequencies: \")\n",
    "result1 = frequencies(text1)\n",
    "print(\"Letter frequency count: \", result1)\n",
    "\n",
    "text2 = input(\"Enter the text to find the letter frequencies: \")\n",
    "result2 = frequencies(text2)\n",
    "print(\"Letter frequency count: \", result2)"
   ]
  }
 ],
 "metadata": {
  "kernelspec": {
   "display_name": "Python 3 (ipykernel)",
   "language": "python",
   "name": "python3"
  },
  "language_info": {
   "codemirror_mode": {
    "name": "ipython",
    "version": 3
   },
   "file_extension": ".py",
   "mimetype": "text/x-python",
   "name": "python",
   "nbconvert_exporter": "python",
   "pygments_lexer": "ipython3",
   "version": "3.9.13"
  }
 },
 "nbformat": 4,
 "nbformat_minor": 5
}
